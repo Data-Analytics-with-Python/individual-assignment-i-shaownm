{
  "nbformat": 4,
  "nbformat_minor": 0,
  "metadata": {
    "colab": {
      "provenance": [],
      "include_colab_link": true
    },
    "kernelspec": {
      "name": "python3",
      "display_name": "Python 3"
    },
    "language_info": {
      "name": "python"
    }
  },
  "cells": [
    {
      "cell_type": "markdown",
      "metadata": {
        "id": "view-in-github",
        "colab_type": "text"
      },
      "source": [
        "<a href=\"https://colab.research.google.com/github/Data-Analytics-with-Python/individual-assignment-i-shaownm/blob/main/Samiul_Shaown_Assignment_Notebook_1.ipynb\" target=\"_parent\"><img src=\"https://colab.research.google.com/assets/colab-badge.svg\" alt=\"Open In Colab\"/></a>"
      ]
    },
    {
      "cell_type": "markdown",
      "source": [
        "IMPORTANT: Before you start, enter your name and student number below.\n",
        "\n",
        "**Full Name:** Md Samiul Karim Shaown\n",
        "\n",
        "**Student Number:** 400587186"
      ],
      "metadata": {
        "id": "IbL5ndOg7fSr"
      }
    },
    {
      "cell_type": "markdown",
      "source": [
        "# Exploring Customer Data with Pandas\n",
        "\n",
        "Use the provided Nata Supermarkets dataset to answer the following questions.\n",
        "Your goal is to use Pandas operations to explore, clean, and summarize the data, and to draw a few simple insights about customer demographics and behavior."
      ],
      "metadata": {
        "id": "wX9l9nahNpbI"
      }
    },
    {
      "cell_type": "markdown",
      "source": [
        "Please complete all task requested and answer all questions explicitly and support your answers with Python codes. Insert code and text cells as you need."
      ],
      "metadata": {
        "id": "5BaaZYnXNy6n"
      }
    },
    {
      "cell_type": "markdown",
      "source": [
        "## 1. Inspecting and loading the Data (10pts)\n",
        "\n",
        "* Save the dataset in the case supplementary file (in Excel) as a csv file and save it in a public GitHub repository.\n",
        "\n",
        "* Load the dataset as a pandas data frame and display the first few rows.\n",
        "\n",
        "    * How many features (columns) and records (rows) are in the dataset?"
      ],
      "metadata": {
        "id": "8Zpp2bkoNwvT"
      }
    },
    {
      "cell_type": "code",
      "source": [
        "#Step 1A: Upload and read the Nata Supermarkets CSV file\n",
        "from google.colab import files\n",
        "import pandas as pd\n",
        "import io\n",
        "\n",
        "#Upload the CSV file\n",
        "uploaded = files.upload()   # Choose \"Nata Supermarkets.csv\"\n",
        "\n",
        "#Read the uploaded CSV file\n",
        "file_name = \"Nata Supermarkets.csv\"\n",
        "df = pd.read_csv(io.BytesIO(uploaded[file_name]))\n",
        "\n",
        "#Display first five rows\n",
        "df.head()\n"
      ],
      "metadata": {
        "id": "KfdKIE4tOzTJ",
        "colab": {
          "base_uri": "https://localhost:8080/",
          "height": 290
        },
        "outputId": "69b7793c-7540-4674-e70d-455bfe05e05a"
      },
      "execution_count": null,
      "outputs": [
        {
          "output_type": "display_data",
          "data": {
            "text/plain": [
              "<IPython.core.display.HTML object>"
            ],
            "text/html": [
              "\n",
              "     <input type=\"file\" id=\"files-c5edf89a-f82e-41e3-954f-c60f3e4c0b7a\" name=\"files[]\" multiple disabled\n",
              "        style=\"border:none\" />\n",
              "     <output id=\"result-c5edf89a-f82e-41e3-954f-c60f3e4c0b7a\">\n",
              "      Upload widget is only available when the cell has been executed in the\n",
              "      current browser session. Please rerun this cell to enable.\n",
              "      </output>\n",
              "      <script>// Copyright 2017 Google LLC\n",
              "//\n",
              "// Licensed under the Apache License, Version 2.0 (the \"License\");\n",
              "// you may not use this file except in compliance with the License.\n",
              "// You may obtain a copy of the License at\n",
              "//\n",
              "//      http://www.apache.org/licenses/LICENSE-2.0\n",
              "//\n",
              "// Unless required by applicable law or agreed to in writing, software\n",
              "// distributed under the License is distributed on an \"AS IS\" BASIS,\n",
              "// WITHOUT WARRANTIES OR CONDITIONS OF ANY KIND, either express or implied.\n",
              "// See the License for the specific language governing permissions and\n",
              "// limitations under the License.\n",
              "\n",
              "/**\n",
              " * @fileoverview Helpers for google.colab Python module.\n",
              " */\n",
              "(function(scope) {\n",
              "function span(text, styleAttributes = {}) {\n",
              "  const element = document.createElement('span');\n",
              "  element.textContent = text;\n",
              "  for (const key of Object.keys(styleAttributes)) {\n",
              "    element.style[key] = styleAttributes[key];\n",
              "  }\n",
              "  return element;\n",
              "}\n",
              "\n",
              "// Max number of bytes which will be uploaded at a time.\n",
              "const MAX_PAYLOAD_SIZE = 100 * 1024;\n",
              "\n",
              "function _uploadFiles(inputId, outputId) {\n",
              "  const steps = uploadFilesStep(inputId, outputId);\n",
              "  const outputElement = document.getElementById(outputId);\n",
              "  // Cache steps on the outputElement to make it available for the next call\n",
              "  // to uploadFilesContinue from Python.\n",
              "  outputElement.steps = steps;\n",
              "\n",
              "  return _uploadFilesContinue(outputId);\n",
              "}\n",
              "\n",
              "// This is roughly an async generator (not supported in the browser yet),\n",
              "// where there are multiple asynchronous steps and the Python side is going\n",
              "// to poll for completion of each step.\n",
              "// This uses a Promise to block the python side on completion of each step,\n",
              "// then passes the result of the previous step as the input to the next step.\n",
              "function _uploadFilesContinue(outputId) {\n",
              "  const outputElement = document.getElementById(outputId);\n",
              "  const steps = outputElement.steps;\n",
              "\n",
              "  const next = steps.next(outputElement.lastPromiseValue);\n",
              "  return Promise.resolve(next.value.promise).then((value) => {\n",
              "    // Cache the last promise value to make it available to the next\n",
              "    // step of the generator.\n",
              "    outputElement.lastPromiseValue = value;\n",
              "    return next.value.response;\n",
              "  });\n",
              "}\n",
              "\n",
              "/**\n",
              " * Generator function which is called between each async step of the upload\n",
              " * process.\n",
              " * @param {string} inputId Element ID of the input file picker element.\n",
              " * @param {string} outputId Element ID of the output display.\n",
              " * @return {!Iterable<!Object>} Iterable of next steps.\n",
              " */\n",
              "function* uploadFilesStep(inputId, outputId) {\n",
              "  const inputElement = document.getElementById(inputId);\n",
              "  inputElement.disabled = false;\n",
              "\n",
              "  const outputElement = document.getElementById(outputId);\n",
              "  outputElement.innerHTML = '';\n",
              "\n",
              "  const pickedPromise = new Promise((resolve) => {\n",
              "    inputElement.addEventListener('change', (e) => {\n",
              "      resolve(e.target.files);\n",
              "    });\n",
              "  });\n",
              "\n",
              "  const cancel = document.createElement('button');\n",
              "  inputElement.parentElement.appendChild(cancel);\n",
              "  cancel.textContent = 'Cancel upload';\n",
              "  const cancelPromise = new Promise((resolve) => {\n",
              "    cancel.onclick = () => {\n",
              "      resolve(null);\n",
              "    };\n",
              "  });\n",
              "\n",
              "  // Wait for the user to pick the files.\n",
              "  const files = yield {\n",
              "    promise: Promise.race([pickedPromise, cancelPromise]),\n",
              "    response: {\n",
              "      action: 'starting',\n",
              "    }\n",
              "  };\n",
              "\n",
              "  cancel.remove();\n",
              "\n",
              "  // Disable the input element since further picks are not allowed.\n",
              "  inputElement.disabled = true;\n",
              "\n",
              "  if (!files) {\n",
              "    return {\n",
              "      response: {\n",
              "        action: 'complete',\n",
              "      }\n",
              "    };\n",
              "  }\n",
              "\n",
              "  for (const file of files) {\n",
              "    const li = document.createElement('li');\n",
              "    li.append(span(file.name, {fontWeight: 'bold'}));\n",
              "    li.append(span(\n",
              "        `(${file.type || 'n/a'}) - ${file.size} bytes, ` +\n",
              "        `last modified: ${\n",
              "            file.lastModifiedDate ? file.lastModifiedDate.toLocaleDateString() :\n",
              "                                    'n/a'} - `));\n",
              "    const percent = span('0% done');\n",
              "    li.appendChild(percent);\n",
              "\n",
              "    outputElement.appendChild(li);\n",
              "\n",
              "    const fileDataPromise = new Promise((resolve) => {\n",
              "      const reader = new FileReader();\n",
              "      reader.onload = (e) => {\n",
              "        resolve(e.target.result);\n",
              "      };\n",
              "      reader.readAsArrayBuffer(file);\n",
              "    });\n",
              "    // Wait for the data to be ready.\n",
              "    let fileData = yield {\n",
              "      promise: fileDataPromise,\n",
              "      response: {\n",
              "        action: 'continue',\n",
              "      }\n",
              "    };\n",
              "\n",
              "    // Use a chunked sending to avoid message size limits. See b/62115660.\n",
              "    let position = 0;\n",
              "    do {\n",
              "      const length = Math.min(fileData.byteLength - position, MAX_PAYLOAD_SIZE);\n",
              "      const chunk = new Uint8Array(fileData, position, length);\n",
              "      position += length;\n",
              "\n",
              "      const base64 = btoa(String.fromCharCode.apply(null, chunk));\n",
              "      yield {\n",
              "        response: {\n",
              "          action: 'append',\n",
              "          file: file.name,\n",
              "          data: base64,\n",
              "        },\n",
              "      };\n",
              "\n",
              "      let percentDone = fileData.byteLength === 0 ?\n",
              "          100 :\n",
              "          Math.round((position / fileData.byteLength) * 100);\n",
              "      percent.textContent = `${percentDone}% done`;\n",
              "\n",
              "    } while (position < fileData.byteLength);\n",
              "  }\n",
              "\n",
              "  // All done.\n",
              "  yield {\n",
              "    response: {\n",
              "      action: 'complete',\n",
              "    }\n",
              "  };\n",
              "}\n",
              "\n",
              "scope.google = scope.google || {};\n",
              "scope.google.colab = scope.google.colab || {};\n",
              "scope.google.colab._files = {\n",
              "  _uploadFiles,\n",
              "  _uploadFilesContinue,\n",
              "};\n",
              "})(self);\n",
              "</script> "
            ]
          },
          "metadata": {}
        },
        {
          "output_type": "stream",
          "name": "stdout",
          "text": [
            "Saving Nata Supermarkets.csv to Nata Supermarkets.csv\n"
          ]
        },
        {
          "output_type": "execute_result",
          "data": {
            "text/plain": [
              "     ID  Year_Birth   Education Marital_Status   Income  Kidhome  Teenhome  \\\n",
              "0  5524        1957  Graduation         Single  58138.0        0         0   \n",
              "1  2174        1954  Graduation         Single  46344.0        1         1   \n",
              "2  4141        1965  Graduation       Together  71613.0        0         0   \n",
              "3  6182        1984  Graduation       Together  26646.0        1         0   \n",
              "4  5324        1981         PhD        Married  58293.0        1         0   \n",
              "\n",
              "  Dt_Customer  Recency  MntWines  ...  NumWebVisitsMonth  AcceptedCmp3  \\\n",
              "0  2012-04-09       58       635  ...                  7             0   \n",
              "1  2014-08-03       38        11  ...                  5             0   \n",
              "2  21-08-2013       26       426  ...                  4             0   \n",
              "3  2014-10-02       26        11  ...                  6             0   \n",
              "4  19-01-2014       94       173  ...                  5             0   \n",
              "\n",
              "   AcceptedCmp4  AcceptedCmp5  AcceptedCmp1  AcceptedCmp2  Complain  \\\n",
              "0             0             0             0             0         0   \n",
              "1             0             0             0             0         0   \n",
              "2             0             0             0             0         0   \n",
              "3             0             0             0             0         0   \n",
              "4             0             0             0             0         0   \n",
              "\n",
              "   Z_CostContact  Z_Revenue  Response  \n",
              "0              3         11         1  \n",
              "1              3         11         0  \n",
              "2              3         11         0  \n",
              "3              3         11         0  \n",
              "4              3         11         0  \n",
              "\n",
              "[5 rows x 29 columns]"
            ],
            "text/html": [
              "\n",
              "  <div id=\"df-c4741c49-d360-47c4-a4e4-daa54d2462df\" class=\"colab-df-container\">\n",
              "    <div>\n",
              "<style scoped>\n",
              "    .dataframe tbody tr th:only-of-type {\n",
              "        vertical-align: middle;\n",
              "    }\n",
              "\n",
              "    .dataframe tbody tr th {\n",
              "        vertical-align: top;\n",
              "    }\n",
              "\n",
              "    .dataframe thead th {\n",
              "        text-align: right;\n",
              "    }\n",
              "</style>\n",
              "<table border=\"1\" class=\"dataframe\">\n",
              "  <thead>\n",
              "    <tr style=\"text-align: right;\">\n",
              "      <th></th>\n",
              "      <th>ID</th>\n",
              "      <th>Year_Birth</th>\n",
              "      <th>Education</th>\n",
              "      <th>Marital_Status</th>\n",
              "      <th>Income</th>\n",
              "      <th>Kidhome</th>\n",
              "      <th>Teenhome</th>\n",
              "      <th>Dt_Customer</th>\n",
              "      <th>Recency</th>\n",
              "      <th>MntWines</th>\n",
              "      <th>...</th>\n",
              "      <th>NumWebVisitsMonth</th>\n",
              "      <th>AcceptedCmp3</th>\n",
              "      <th>AcceptedCmp4</th>\n",
              "      <th>AcceptedCmp5</th>\n",
              "      <th>AcceptedCmp1</th>\n",
              "      <th>AcceptedCmp2</th>\n",
              "      <th>Complain</th>\n",
              "      <th>Z_CostContact</th>\n",
              "      <th>Z_Revenue</th>\n",
              "      <th>Response</th>\n",
              "    </tr>\n",
              "  </thead>\n",
              "  <tbody>\n",
              "    <tr>\n",
              "      <th>0</th>\n",
              "      <td>5524</td>\n",
              "      <td>1957</td>\n",
              "      <td>Graduation</td>\n",
              "      <td>Single</td>\n",
              "      <td>58138.0</td>\n",
              "      <td>0</td>\n",
              "      <td>0</td>\n",
              "      <td>2012-04-09</td>\n",
              "      <td>58</td>\n",
              "      <td>635</td>\n",
              "      <td>...</td>\n",
              "      <td>7</td>\n",
              "      <td>0</td>\n",
              "      <td>0</td>\n",
              "      <td>0</td>\n",
              "      <td>0</td>\n",
              "      <td>0</td>\n",
              "      <td>0</td>\n",
              "      <td>3</td>\n",
              "      <td>11</td>\n",
              "      <td>1</td>\n",
              "    </tr>\n",
              "    <tr>\n",
              "      <th>1</th>\n",
              "      <td>2174</td>\n",
              "      <td>1954</td>\n",
              "      <td>Graduation</td>\n",
              "      <td>Single</td>\n",
              "      <td>46344.0</td>\n",
              "      <td>1</td>\n",
              "      <td>1</td>\n",
              "      <td>2014-08-03</td>\n",
              "      <td>38</td>\n",
              "      <td>11</td>\n",
              "      <td>...</td>\n",
              "      <td>5</td>\n",
              "      <td>0</td>\n",
              "      <td>0</td>\n",
              "      <td>0</td>\n",
              "      <td>0</td>\n",
              "      <td>0</td>\n",
              "      <td>0</td>\n",
              "      <td>3</td>\n",
              "      <td>11</td>\n",
              "      <td>0</td>\n",
              "    </tr>\n",
              "    <tr>\n",
              "      <th>2</th>\n",
              "      <td>4141</td>\n",
              "      <td>1965</td>\n",
              "      <td>Graduation</td>\n",
              "      <td>Together</td>\n",
              "      <td>71613.0</td>\n",
              "      <td>0</td>\n",
              "      <td>0</td>\n",
              "      <td>21-08-2013</td>\n",
              "      <td>26</td>\n",
              "      <td>426</td>\n",
              "      <td>...</td>\n",
              "      <td>4</td>\n",
              "      <td>0</td>\n",
              "      <td>0</td>\n",
              "      <td>0</td>\n",
              "      <td>0</td>\n",
              "      <td>0</td>\n",
              "      <td>0</td>\n",
              "      <td>3</td>\n",
              "      <td>11</td>\n",
              "      <td>0</td>\n",
              "    </tr>\n",
              "    <tr>\n",
              "      <th>3</th>\n",
              "      <td>6182</td>\n",
              "      <td>1984</td>\n",
              "      <td>Graduation</td>\n",
              "      <td>Together</td>\n",
              "      <td>26646.0</td>\n",
              "      <td>1</td>\n",
              "      <td>0</td>\n",
              "      <td>2014-10-02</td>\n",
              "      <td>26</td>\n",
              "      <td>11</td>\n",
              "      <td>...</td>\n",
              "      <td>6</td>\n",
              "      <td>0</td>\n",
              "      <td>0</td>\n",
              "      <td>0</td>\n",
              "      <td>0</td>\n",
              "      <td>0</td>\n",
              "      <td>0</td>\n",
              "      <td>3</td>\n",
              "      <td>11</td>\n",
              "      <td>0</td>\n",
              "    </tr>\n",
              "    <tr>\n",
              "      <th>4</th>\n",
              "      <td>5324</td>\n",
              "      <td>1981</td>\n",
              "      <td>PhD</td>\n",
              "      <td>Married</td>\n",
              "      <td>58293.0</td>\n",
              "      <td>1</td>\n",
              "      <td>0</td>\n",
              "      <td>19-01-2014</td>\n",
              "      <td>94</td>\n",
              "      <td>173</td>\n",
              "      <td>...</td>\n",
              "      <td>5</td>\n",
              "      <td>0</td>\n",
              "      <td>0</td>\n",
              "      <td>0</td>\n",
              "      <td>0</td>\n",
              "      <td>0</td>\n",
              "      <td>0</td>\n",
              "      <td>3</td>\n",
              "      <td>11</td>\n",
              "      <td>0</td>\n",
              "    </tr>\n",
              "  </tbody>\n",
              "</table>\n",
              "<p>5 rows × 29 columns</p>\n",
              "</div>\n",
              "    <div class=\"colab-df-buttons\">\n",
              "\n",
              "  <div class=\"colab-df-container\">\n",
              "    <button class=\"colab-df-convert\" onclick=\"convertToInteractive('df-c4741c49-d360-47c4-a4e4-daa54d2462df')\"\n",
              "            title=\"Convert this dataframe to an interactive table.\"\n",
              "            style=\"display:none;\">\n",
              "\n",
              "  <svg xmlns=\"http://www.w3.org/2000/svg\" height=\"24px\" viewBox=\"0 -960 960 960\">\n",
              "    <path d=\"M120-120v-720h720v720H120Zm60-500h600v-160H180v160Zm220 220h160v-160H400v160Zm0 220h160v-160H400v160ZM180-400h160v-160H180v160Zm440 0h160v-160H620v160ZM180-180h160v-160H180v160Zm440 0h160v-160H620v160Z\"/>\n",
              "  </svg>\n",
              "    </button>\n",
              "\n",
              "  <style>\n",
              "    .colab-df-container {\n",
              "      display:flex;\n",
              "      gap: 12px;\n",
              "    }\n",
              "\n",
              "    .colab-df-convert {\n",
              "      background-color: #E8F0FE;\n",
              "      border: none;\n",
              "      border-radius: 50%;\n",
              "      cursor: pointer;\n",
              "      display: none;\n",
              "      fill: #1967D2;\n",
              "      height: 32px;\n",
              "      padding: 0 0 0 0;\n",
              "      width: 32px;\n",
              "    }\n",
              "\n",
              "    .colab-df-convert:hover {\n",
              "      background-color: #E2EBFA;\n",
              "      box-shadow: 0px 1px 2px rgba(60, 64, 67, 0.3), 0px 1px 3px 1px rgba(60, 64, 67, 0.15);\n",
              "      fill: #174EA6;\n",
              "    }\n",
              "\n",
              "    .colab-df-buttons div {\n",
              "      margin-bottom: 4px;\n",
              "    }\n",
              "\n",
              "    [theme=dark] .colab-df-convert {\n",
              "      background-color: #3B4455;\n",
              "      fill: #D2E3FC;\n",
              "    }\n",
              "\n",
              "    [theme=dark] .colab-df-convert:hover {\n",
              "      background-color: #434B5C;\n",
              "      box-shadow: 0px 1px 3px 1px rgba(0, 0, 0, 0.15);\n",
              "      filter: drop-shadow(0px 1px 2px rgba(0, 0, 0, 0.3));\n",
              "      fill: #FFFFFF;\n",
              "    }\n",
              "  </style>\n",
              "\n",
              "    <script>\n",
              "      const buttonEl =\n",
              "        document.querySelector('#df-c4741c49-d360-47c4-a4e4-daa54d2462df button.colab-df-convert');\n",
              "      buttonEl.style.display =\n",
              "        google.colab.kernel.accessAllowed ? 'block' : 'none';\n",
              "\n",
              "      async function convertToInteractive(key) {\n",
              "        const element = document.querySelector('#df-c4741c49-d360-47c4-a4e4-daa54d2462df');\n",
              "        const dataTable =\n",
              "          await google.colab.kernel.invokeFunction('convertToInteractive',\n",
              "                                                    [key], {});\n",
              "        if (!dataTable) return;\n",
              "\n",
              "        const docLinkHtml = 'Like what you see? Visit the ' +\n",
              "          '<a target=\"_blank\" href=https://colab.research.google.com/notebooks/data_table.ipynb>data table notebook</a>'\n",
              "          + ' to learn more about interactive tables.';\n",
              "        element.innerHTML = '';\n",
              "        dataTable['output_type'] = 'display_data';\n",
              "        await google.colab.output.renderOutput(dataTable, element);\n",
              "        const docLink = document.createElement('div');\n",
              "        docLink.innerHTML = docLinkHtml;\n",
              "        element.appendChild(docLink);\n",
              "      }\n",
              "    </script>\n",
              "  </div>\n",
              "\n",
              "\n",
              "    <div id=\"df-fd1707a3-d20c-4840-87f8-0f8372725aeb\">\n",
              "      <button class=\"colab-df-quickchart\" onclick=\"quickchart('df-fd1707a3-d20c-4840-87f8-0f8372725aeb')\"\n",
              "                title=\"Suggest charts\"\n",
              "                style=\"display:none;\">\n",
              "\n",
              "<svg xmlns=\"http://www.w3.org/2000/svg\" height=\"24px\"viewBox=\"0 0 24 24\"\n",
              "     width=\"24px\">\n",
              "    <g>\n",
              "        <path d=\"M19 3H5c-1.1 0-2 .9-2 2v14c0 1.1.9 2 2 2h14c1.1 0 2-.9 2-2V5c0-1.1-.9-2-2-2zM9 17H7v-7h2v7zm4 0h-2V7h2v10zm4 0h-2v-4h2v4z\"/>\n",
              "    </g>\n",
              "</svg>\n",
              "      </button>\n",
              "\n",
              "<style>\n",
              "  .colab-df-quickchart {\n",
              "      --bg-color: #E8F0FE;\n",
              "      --fill-color: #1967D2;\n",
              "      --hover-bg-color: #E2EBFA;\n",
              "      --hover-fill-color: #174EA6;\n",
              "      --disabled-fill-color: #AAA;\n",
              "      --disabled-bg-color: #DDD;\n",
              "  }\n",
              "\n",
              "  [theme=dark] .colab-df-quickchart {\n",
              "      --bg-color: #3B4455;\n",
              "      --fill-color: #D2E3FC;\n",
              "      --hover-bg-color: #434B5C;\n",
              "      --hover-fill-color: #FFFFFF;\n",
              "      --disabled-bg-color: #3B4455;\n",
              "      --disabled-fill-color: #666;\n",
              "  }\n",
              "\n",
              "  .colab-df-quickchart {\n",
              "    background-color: var(--bg-color);\n",
              "    border: none;\n",
              "    border-radius: 50%;\n",
              "    cursor: pointer;\n",
              "    display: none;\n",
              "    fill: var(--fill-color);\n",
              "    height: 32px;\n",
              "    padding: 0;\n",
              "    width: 32px;\n",
              "  }\n",
              "\n",
              "  .colab-df-quickchart:hover {\n",
              "    background-color: var(--hover-bg-color);\n",
              "    box-shadow: 0 1px 2px rgba(60, 64, 67, 0.3), 0 1px 3px 1px rgba(60, 64, 67, 0.15);\n",
              "    fill: var(--button-hover-fill-color);\n",
              "  }\n",
              "\n",
              "  .colab-df-quickchart-complete:disabled,\n",
              "  .colab-df-quickchart-complete:disabled:hover {\n",
              "    background-color: var(--disabled-bg-color);\n",
              "    fill: var(--disabled-fill-color);\n",
              "    box-shadow: none;\n",
              "  }\n",
              "\n",
              "  .colab-df-spinner {\n",
              "    border: 2px solid var(--fill-color);\n",
              "    border-color: transparent;\n",
              "    border-bottom-color: var(--fill-color);\n",
              "    animation:\n",
              "      spin 1s steps(1) infinite;\n",
              "  }\n",
              "\n",
              "  @keyframes spin {\n",
              "    0% {\n",
              "      border-color: transparent;\n",
              "      border-bottom-color: var(--fill-color);\n",
              "      border-left-color: var(--fill-color);\n",
              "    }\n",
              "    20% {\n",
              "      border-color: transparent;\n",
              "      border-left-color: var(--fill-color);\n",
              "      border-top-color: var(--fill-color);\n",
              "    }\n",
              "    30% {\n",
              "      border-color: transparent;\n",
              "      border-left-color: var(--fill-color);\n",
              "      border-top-color: var(--fill-color);\n",
              "      border-right-color: var(--fill-color);\n",
              "    }\n",
              "    40% {\n",
              "      border-color: transparent;\n",
              "      border-right-color: var(--fill-color);\n",
              "      border-top-color: var(--fill-color);\n",
              "    }\n",
              "    60% {\n",
              "      border-color: transparent;\n",
              "      border-right-color: var(--fill-color);\n",
              "    }\n",
              "    80% {\n",
              "      border-color: transparent;\n",
              "      border-right-color: var(--fill-color);\n",
              "      border-bottom-color: var(--fill-color);\n",
              "    }\n",
              "    90% {\n",
              "      border-color: transparent;\n",
              "      border-bottom-color: var(--fill-color);\n",
              "    }\n",
              "  }\n",
              "</style>\n",
              "\n",
              "      <script>\n",
              "        async function quickchart(key) {\n",
              "          const quickchartButtonEl =\n",
              "            document.querySelector('#' + key + ' button');\n",
              "          quickchartButtonEl.disabled = true;  // To prevent multiple clicks.\n",
              "          quickchartButtonEl.classList.add('colab-df-spinner');\n",
              "          try {\n",
              "            const charts = await google.colab.kernel.invokeFunction(\n",
              "                'suggestCharts', [key], {});\n",
              "          } catch (error) {\n",
              "            console.error('Error during call to suggestCharts:', error);\n",
              "          }\n",
              "          quickchartButtonEl.classList.remove('colab-df-spinner');\n",
              "          quickchartButtonEl.classList.add('colab-df-quickchart-complete');\n",
              "        }\n",
              "        (() => {\n",
              "          let quickchartButtonEl =\n",
              "            document.querySelector('#df-fd1707a3-d20c-4840-87f8-0f8372725aeb button');\n",
              "          quickchartButtonEl.style.display =\n",
              "            google.colab.kernel.accessAllowed ? 'block' : 'none';\n",
              "        })();\n",
              "      </script>\n",
              "    </div>\n",
              "\n",
              "    </div>\n",
              "  </div>\n"
            ],
            "application/vnd.google.colaboratory.intrinsic+json": {
              "type": "dataframe",
              "variable_name": "df"
            }
          },
          "metadata": {},
          "execution_count": 10
        }
      ]
    },
    {
      "cell_type": "code",
      "source": [
        "#Step 2: Inspect dataset shape and structure\n",
        "print(\"Dataset shape (rows, columns):\", df.shape)\n",
        "print(\"\\nColumn names:\\n\", df.columns.tolist())\n",
        "\n"
      ],
      "metadata": {
        "colab": {
          "base_uri": "https://localhost:8080/"
        },
        "id": "04Mc3pKuBfRc",
        "outputId": "c34a17ca-24d1-44eb-9765-2b1fab71e5a8"
      },
      "execution_count": null,
      "outputs": [
        {
          "output_type": "stream",
          "name": "stdout",
          "text": [
            "Dataset shape (rows, columns): (2240, 29)\n",
            "\n",
            "Column names:\n",
            " ['ID', 'Year_Birth', 'Education', 'Marital_Status', 'Income', 'Kidhome', 'Teenhome', 'Dt_Customer', 'Recency', 'MntWines', 'MntFruits', 'MntMeatProducts', 'MntFishProducts', 'MntSweetProducts', 'MntGoldProds', 'NumDealsPurchases', 'NumWebPurchases', 'NumCatalogPurchases', 'NumStorePurchases', 'NumWebVisitsMonth', 'AcceptedCmp3', 'AcceptedCmp4', 'AcceptedCmp5', 'AcceptedCmp1', 'AcceptedCmp2', 'Complain', 'Z_CostContact', 'Z_Revenue', 'Response']\n"
          ]
        }
      ]
    },
    {
      "cell_type": "markdown",
      "source": [
        "I created a copy of the marketing sheet and saved as a seperate csv file and uploaded the case dataset (Nata Supermarkets.csv) using the pandas library.\n",
        "The dataset loaded successfully and displays customer demographic and behavioral variables such as Year_Birth, Education, Marital_Status, Income, and spending categories like MntWines, MntMeatProducts, and MntGoldProds.\n",
        "After inspection, the dataset contains 2,240 records (rows) and 29 features (columns).\n",
        "The first few rows were displayed above, confirming that the dataset was read correctly and is now ready for cleaning and analysis."
      ],
      "metadata": {
        "id": "F4PKJUEjCeQ1"
      }
    },
    {
      "cell_type": "markdown",
      "source": [
        "## 2. Data Cleaning and Missing Values (14pts)\n",
        "\n",
        "* Check for missing values across all columns.\n",
        "\n",
        "* Which columns contain missing data, and how many missing entries are there?\n",
        "\n",
        "* What strategies could you use to handle them (drop, fill, or ignore)? Apply one reasonable approach and explain your choice."
      ],
      "metadata": {
        "id": "i1oYYTjrO2Pd"
      }
    },
    {
      "cell_type": "code",
      "source": [
        "#Step 1A: Check for missing values in each column\n",
        "missing_values = df.isnull().sum().sort_values(ascending=False)\n",
        "missing_values = missing_values[missing_values > 0]  # will only show columns that have missing values\n",
        "missing_values\n"
      ],
      "metadata": {
        "id": "S1j6pz8yPDFp",
        "colab": {
          "base_uri": "https://localhost:8080/",
          "height": 116
        },
        "outputId": "662f5ef2-e5c0-4ad4-beaa-adb81026d822"
      },
      "execution_count": null,
      "outputs": [
        {
          "output_type": "execute_result",
          "data": {
            "text/plain": [
              "Income    24\n",
              "dtype: int64"
            ],
            "text/html": [
              "<div>\n",
              "<style scoped>\n",
              "    .dataframe tbody tr th:only-of-type {\n",
              "        vertical-align: middle;\n",
              "    }\n",
              "\n",
              "    .dataframe tbody tr th {\n",
              "        vertical-align: top;\n",
              "    }\n",
              "\n",
              "    .dataframe thead th {\n",
              "        text-align: right;\n",
              "    }\n",
              "</style>\n",
              "<table border=\"1\" class=\"dataframe\">\n",
              "  <thead>\n",
              "    <tr style=\"text-align: right;\">\n",
              "      <th></th>\n",
              "      <th>0</th>\n",
              "    </tr>\n",
              "  </thead>\n",
              "  <tbody>\n",
              "    <tr>\n",
              "      <th>Income</th>\n",
              "      <td>24</td>\n",
              "    </tr>\n",
              "  </tbody>\n",
              "</table>\n",
              "</div><br><label><b>dtype:</b> int64</label>"
            ]
          },
          "metadata": {},
          "execution_count": 16
        }
      ]
    },
    {
      "cell_type": "code",
      "source": [
        "#Step 2: Check percentage of missing values\n",
        "missing_percent = (df.isnull().sum() / len(df)) * 100\n",
        "missing_percent[missing_percent > 0].round(2)\n"
      ],
      "metadata": {
        "colab": {
          "base_uri": "https://localhost:8080/",
          "height": 116
        },
        "id": "VmKhvk15EMIA",
        "outputId": "42dcb9ce-719d-4a18-b3cf-4794eebdd021"
      },
      "execution_count": null,
      "outputs": [
        {
          "output_type": "execute_result",
          "data": {
            "text/plain": [
              "Income    1.07\n",
              "dtype: float64"
            ],
            "text/html": [
              "<div>\n",
              "<style scoped>\n",
              "    .dataframe tbody tr th:only-of-type {\n",
              "        vertical-align: middle;\n",
              "    }\n",
              "\n",
              "    .dataframe tbody tr th {\n",
              "        vertical-align: top;\n",
              "    }\n",
              "\n",
              "    .dataframe thead th {\n",
              "        text-align: right;\n",
              "    }\n",
              "</style>\n",
              "<table border=\"1\" class=\"dataframe\">\n",
              "  <thead>\n",
              "    <tr style=\"text-align: right;\">\n",
              "      <th></th>\n",
              "      <th>0</th>\n",
              "    </tr>\n",
              "  </thead>\n",
              "  <tbody>\n",
              "    <tr>\n",
              "      <th>Income</th>\n",
              "      <td>1.07</td>\n",
              "    </tr>\n",
              "  </tbody>\n",
              "</table>\n",
              "</div><br><label><b>dtype:</b> float64</label>"
            ]
          },
          "metadata": {},
          "execution_count": 17
        }
      ]
    },
    {
      "cell_type": "code",
      "source": [
        "#Step 3: Handle missing values\n",
        "import numpy as np\n",
        "\n",
        "#Fill missing numeric values\n",
        "df['Income'] = df['Income'].fillna(df['Income'].median())\n",
        "\n",
        "#Check that missing values are now gone\n",
        "df.isnull().sum().sum()\n"
      ],
      "metadata": {
        "colab": {
          "base_uri": "https://localhost:8080/"
        },
        "id": "MoNbVmRsEL_E",
        "outputId": "159afff0-938b-46d5-f9bb-ee1107eb9481"
      },
      "execution_count": null,
      "outputs": [
        {
          "output_type": "execute_result",
          "data": {
            "text/plain": [
              "np.int64(0)"
            ]
          },
          "metadata": {},
          "execution_count": 23
        }
      ]
    },
    {
      "cell_type": "markdown",
      "source": [
        "I inspected missing values across all columns and found that only the Income column had missing entries — 24 out of 2,240 rows, representing approximately 1.07% of the dataset.\n",
        "\n",
        "Because this is a small proportion of data and income is a continuous numeric variable with potential outliers, I decided to fill the missing values with the median income rather than dropping rows or using the mean. The median is robust to extreme values and maintains overall data consistency.\n",
        "\n",
        "After applying median imputation, the dataset contains no remaining missing values, confirming that the data cleaning process is complete."
      ],
      "metadata": {
        "id": "lZneyhkJFr1-"
      }
    },
    {
      "cell_type": "markdown",
      "source": [
        "## 3. Removing Constant Columns (14pts)\n",
        "\n",
        "* Identify any columns with constant values (no variance; all rows have the same value).\n",
        "\n",
        "* Drop them from your DataFrame and confirm how many columns remain."
      ],
      "metadata": {
        "id": "PGwCqmDvPGoe"
      }
    },
    {
      "cell_type": "code",
      "source": [
        "#Step 1: Identify columns with constant (no-variance) values\n",
        "constant_cols = [col for col in df.columns if df[col].nunique() == 1]\n",
        "\n",
        "print(\"Constant columns:\", constant_cols)\n",
        "print(\"Number of constant columns:\", len(constant_cols))\n"
      ],
      "metadata": {
        "id": "E4_oZUmZPZIV",
        "colab": {
          "base_uri": "https://localhost:8080/"
        },
        "outputId": "1ff1ed4a-621e-4cc8-9174-565bafd23efa"
      },
      "execution_count": null,
      "outputs": [
        {
          "output_type": "stream",
          "name": "stdout",
          "text": [
            "Constant columns: ['Z_CostContact', 'Z_Revenue']\n",
            "Number of constant columns: 2\n"
          ]
        }
      ]
    },
    {
      "cell_type": "code",
      "source": [
        "#Step 2: Drop constant columns\n",
        "df = df.drop(columns=constant_cols)\n",
        "\n",
        "#Step 3: Confirm new number of columns\n",
        "print(\"Remaining columns after dropping constants:\", df.shape[1])\n"
      ],
      "metadata": {
        "colab": {
          "base_uri": "https://localhost:8080/"
        },
        "id": "OtW_zzdSGixI",
        "outputId": "35e6d8e6-7ce3-4ed5-d8ba-64140108f482"
      },
      "execution_count": null,
      "outputs": [
        {
          "output_type": "stream",
          "name": "stdout",
          "text": [
            "Remaining columns after dropping constants: 27\n"
          ]
        }
      ]
    },
    {
      "cell_type": "markdown",
      "source": [
        "I examined all columns in the dataset to identify those with no variance (where every row had the same value).\n",
        "The columns Z_CostContact and Z_Revenue were found to be constant across all 2,240 records.\n",
        "These columns provide no useful information for analysis, so I removed them from the DataFrame.\n",
        "\n",
        "After dropping them, the dataset now contains 27 columns, which will be used for further analysis."
      ],
      "metadata": {
        "id": "74niAJT-GsQb"
      }
    },
    {
      "cell_type": "markdown",
      "source": [
        "## 4. Add a new column (15pts)\n",
        "\n",
        "* Add a new column **Customer_Days** to store the total number of days each customer has been with the company. You may follow the steps below:\n",
        "  * use `pd.to_datetime(df[\"Dt_Customer\"])` to convert the string variable to a *date-time* variable\n",
        "\n",
        "  * use `today = datetime.today()` to find the date of today\n",
        "\n",
        "  * use `(today - df[\"Dt_Customer\"]).dt.days` to find the difference between today and the onbard date."
      ],
      "metadata": {
        "id": "iiT7AKvGTI5w"
      }
    },
    {
      "cell_type": "code",
      "source": [
        "#Add a new column - Customer_Days\n",
        "from datetime import datetime\n",
        "import pandas as pd\n",
        "\n",
        "#Step 1: Convert Dt_Customer to datetime\n",
        "df['Dt_Customer'] = pd.to_datetime(df['Dt_Customer'], errors='coerce')\n",
        "\n",
        "#Step 2: Find today's date\n",
        "today = datetime.today()\n",
        "\n",
        "#Step 3: Calculate total number of days each customer has been with Nata\n",
        "df['Customer_Days'] = (today - df['Dt_Customer']).dt.days\n",
        "\n",
        "#Step 4: Replace any missing values (if Dt_Customer couldn't be parsed)\n",
        "df['Customer_Days'] = df['Customer_Days'].fillna(0).astype(int)\n",
        "\n",
        "#Step 5: Display a few results to verify\n",
        "df[['ID', 'Dt_Customer', 'Customer_Days']].head()\n"
      ],
      "metadata": {
        "colab": {
          "base_uri": "https://localhost:8080/",
          "height": 206
        },
        "id": "K27VH7IvNLQ_",
        "outputId": "5faf8d20-442d-44bb-9d72-d975728c91e2"
      },
      "execution_count": null,
      "outputs": [
        {
          "output_type": "execute_result",
          "data": {
            "text/plain": [
              "     ID Dt_Customer  Customer_Days\n",
              "0  5524  2012-04-09           4942\n",
              "1  2174  2014-08-03           4096\n",
              "2  4141         NaT              0\n",
              "3  6182  2014-10-02           4036\n",
              "4  5324         NaT              0"
            ],
            "text/html": [
              "\n",
              "  <div id=\"df-73892493-0f73-4bd3-9cef-f5fdb7db6851\" class=\"colab-df-container\">\n",
              "    <div>\n",
              "<style scoped>\n",
              "    .dataframe tbody tr th:only-of-type {\n",
              "        vertical-align: middle;\n",
              "    }\n",
              "\n",
              "    .dataframe tbody tr th {\n",
              "        vertical-align: top;\n",
              "    }\n",
              "\n",
              "    .dataframe thead th {\n",
              "        text-align: right;\n",
              "    }\n",
              "</style>\n",
              "<table border=\"1\" class=\"dataframe\">\n",
              "  <thead>\n",
              "    <tr style=\"text-align: right;\">\n",
              "      <th></th>\n",
              "      <th>ID</th>\n",
              "      <th>Dt_Customer</th>\n",
              "      <th>Customer_Days</th>\n",
              "    </tr>\n",
              "  </thead>\n",
              "  <tbody>\n",
              "    <tr>\n",
              "      <th>0</th>\n",
              "      <td>5524</td>\n",
              "      <td>2012-04-09</td>\n",
              "      <td>4942</td>\n",
              "    </tr>\n",
              "    <tr>\n",
              "      <th>1</th>\n",
              "      <td>2174</td>\n",
              "      <td>2014-08-03</td>\n",
              "      <td>4096</td>\n",
              "    </tr>\n",
              "    <tr>\n",
              "      <th>2</th>\n",
              "      <td>4141</td>\n",
              "      <td>NaT</td>\n",
              "      <td>0</td>\n",
              "    </tr>\n",
              "    <tr>\n",
              "      <th>3</th>\n",
              "      <td>6182</td>\n",
              "      <td>2014-10-02</td>\n",
              "      <td>4036</td>\n",
              "    </tr>\n",
              "    <tr>\n",
              "      <th>4</th>\n",
              "      <td>5324</td>\n",
              "      <td>NaT</td>\n",
              "      <td>0</td>\n",
              "    </tr>\n",
              "  </tbody>\n",
              "</table>\n",
              "</div>\n",
              "    <div class=\"colab-df-buttons\">\n",
              "\n",
              "  <div class=\"colab-df-container\">\n",
              "    <button class=\"colab-df-convert\" onclick=\"convertToInteractive('df-73892493-0f73-4bd3-9cef-f5fdb7db6851')\"\n",
              "            title=\"Convert this dataframe to an interactive table.\"\n",
              "            style=\"display:none;\">\n",
              "\n",
              "  <svg xmlns=\"http://www.w3.org/2000/svg\" height=\"24px\" viewBox=\"0 -960 960 960\">\n",
              "    <path d=\"M120-120v-720h720v720H120Zm60-500h600v-160H180v160Zm220 220h160v-160H400v160Zm0 220h160v-160H400v160ZM180-400h160v-160H180v160Zm440 0h160v-160H620v160ZM180-180h160v-160H180v160Zm440 0h160v-160H620v160Z\"/>\n",
              "  </svg>\n",
              "    </button>\n",
              "\n",
              "  <style>\n",
              "    .colab-df-container {\n",
              "      display:flex;\n",
              "      gap: 12px;\n",
              "    }\n",
              "\n",
              "    .colab-df-convert {\n",
              "      background-color: #E8F0FE;\n",
              "      border: none;\n",
              "      border-radius: 50%;\n",
              "      cursor: pointer;\n",
              "      display: none;\n",
              "      fill: #1967D2;\n",
              "      height: 32px;\n",
              "      padding: 0 0 0 0;\n",
              "      width: 32px;\n",
              "    }\n",
              "\n",
              "    .colab-df-convert:hover {\n",
              "      background-color: #E2EBFA;\n",
              "      box-shadow: 0px 1px 2px rgba(60, 64, 67, 0.3), 0px 1px 3px 1px rgba(60, 64, 67, 0.15);\n",
              "      fill: #174EA6;\n",
              "    }\n",
              "\n",
              "    .colab-df-buttons div {\n",
              "      margin-bottom: 4px;\n",
              "    }\n",
              "\n",
              "    [theme=dark] .colab-df-convert {\n",
              "      background-color: #3B4455;\n",
              "      fill: #D2E3FC;\n",
              "    }\n",
              "\n",
              "    [theme=dark] .colab-df-convert:hover {\n",
              "      background-color: #434B5C;\n",
              "      box-shadow: 0px 1px 3px 1px rgba(0, 0, 0, 0.15);\n",
              "      filter: drop-shadow(0px 1px 2px rgba(0, 0, 0, 0.3));\n",
              "      fill: #FFFFFF;\n",
              "    }\n",
              "  </style>\n",
              "\n",
              "    <script>\n",
              "      const buttonEl =\n",
              "        document.querySelector('#df-73892493-0f73-4bd3-9cef-f5fdb7db6851 button.colab-df-convert');\n",
              "      buttonEl.style.display =\n",
              "        google.colab.kernel.accessAllowed ? 'block' : 'none';\n",
              "\n",
              "      async function convertToInteractive(key) {\n",
              "        const element = document.querySelector('#df-73892493-0f73-4bd3-9cef-f5fdb7db6851');\n",
              "        const dataTable =\n",
              "          await google.colab.kernel.invokeFunction('convertToInteractive',\n",
              "                                                    [key], {});\n",
              "        if (!dataTable) return;\n",
              "\n",
              "        const docLinkHtml = 'Like what you see? Visit the ' +\n",
              "          '<a target=\"_blank\" href=https://colab.research.google.com/notebooks/data_table.ipynb>data table notebook</a>'\n",
              "          + ' to learn more about interactive tables.';\n",
              "        element.innerHTML = '';\n",
              "        dataTable['output_type'] = 'display_data';\n",
              "        await google.colab.output.renderOutput(dataTable, element);\n",
              "        const docLink = document.createElement('div');\n",
              "        docLink.innerHTML = docLinkHtml;\n",
              "        element.appendChild(docLink);\n",
              "      }\n",
              "    </script>\n",
              "  </div>\n",
              "\n",
              "\n",
              "    <div id=\"df-fb559c43-3524-4e88-84ea-bc86aba451da\">\n",
              "      <button class=\"colab-df-quickchart\" onclick=\"quickchart('df-fb559c43-3524-4e88-84ea-bc86aba451da')\"\n",
              "                title=\"Suggest charts\"\n",
              "                style=\"display:none;\">\n",
              "\n",
              "<svg xmlns=\"http://www.w3.org/2000/svg\" height=\"24px\"viewBox=\"0 0 24 24\"\n",
              "     width=\"24px\">\n",
              "    <g>\n",
              "        <path d=\"M19 3H5c-1.1 0-2 .9-2 2v14c0 1.1.9 2 2 2h14c1.1 0 2-.9 2-2V5c0-1.1-.9-2-2-2zM9 17H7v-7h2v7zm4 0h-2V7h2v10zm4 0h-2v-4h2v4z\"/>\n",
              "    </g>\n",
              "</svg>\n",
              "      </button>\n",
              "\n",
              "<style>\n",
              "  .colab-df-quickchart {\n",
              "      --bg-color: #E8F0FE;\n",
              "      --fill-color: #1967D2;\n",
              "      --hover-bg-color: #E2EBFA;\n",
              "      --hover-fill-color: #174EA6;\n",
              "      --disabled-fill-color: #AAA;\n",
              "      --disabled-bg-color: #DDD;\n",
              "  }\n",
              "\n",
              "  [theme=dark] .colab-df-quickchart {\n",
              "      --bg-color: #3B4455;\n",
              "      --fill-color: #D2E3FC;\n",
              "      --hover-bg-color: #434B5C;\n",
              "      --hover-fill-color: #FFFFFF;\n",
              "      --disabled-bg-color: #3B4455;\n",
              "      --disabled-fill-color: #666;\n",
              "  }\n",
              "\n",
              "  .colab-df-quickchart {\n",
              "    background-color: var(--bg-color);\n",
              "    border: none;\n",
              "    border-radius: 50%;\n",
              "    cursor: pointer;\n",
              "    display: none;\n",
              "    fill: var(--fill-color);\n",
              "    height: 32px;\n",
              "    padding: 0;\n",
              "    width: 32px;\n",
              "  }\n",
              "\n",
              "  .colab-df-quickchart:hover {\n",
              "    background-color: var(--hover-bg-color);\n",
              "    box-shadow: 0 1px 2px rgba(60, 64, 67, 0.3), 0 1px 3px 1px rgba(60, 64, 67, 0.15);\n",
              "    fill: var(--button-hover-fill-color);\n",
              "  }\n",
              "\n",
              "  .colab-df-quickchart-complete:disabled,\n",
              "  .colab-df-quickchart-complete:disabled:hover {\n",
              "    background-color: var(--disabled-bg-color);\n",
              "    fill: var(--disabled-fill-color);\n",
              "    box-shadow: none;\n",
              "  }\n",
              "\n",
              "  .colab-df-spinner {\n",
              "    border: 2px solid var(--fill-color);\n",
              "    border-color: transparent;\n",
              "    border-bottom-color: var(--fill-color);\n",
              "    animation:\n",
              "      spin 1s steps(1) infinite;\n",
              "  }\n",
              "\n",
              "  @keyframes spin {\n",
              "    0% {\n",
              "      border-color: transparent;\n",
              "      border-bottom-color: var(--fill-color);\n",
              "      border-left-color: var(--fill-color);\n",
              "    }\n",
              "    20% {\n",
              "      border-color: transparent;\n",
              "      border-left-color: var(--fill-color);\n",
              "      border-top-color: var(--fill-color);\n",
              "    }\n",
              "    30% {\n",
              "      border-color: transparent;\n",
              "      border-left-color: var(--fill-color);\n",
              "      border-top-color: var(--fill-color);\n",
              "      border-right-color: var(--fill-color);\n",
              "    }\n",
              "    40% {\n",
              "      border-color: transparent;\n",
              "      border-right-color: var(--fill-color);\n",
              "      border-top-color: var(--fill-color);\n",
              "    }\n",
              "    60% {\n",
              "      border-color: transparent;\n",
              "      border-right-color: var(--fill-color);\n",
              "    }\n",
              "    80% {\n",
              "      border-color: transparent;\n",
              "      border-right-color: var(--fill-color);\n",
              "      border-bottom-color: var(--fill-color);\n",
              "    }\n",
              "    90% {\n",
              "      border-color: transparent;\n",
              "      border-bottom-color: var(--fill-color);\n",
              "    }\n",
              "  }\n",
              "</style>\n",
              "\n",
              "      <script>\n",
              "        async function quickchart(key) {\n",
              "          const quickchartButtonEl =\n",
              "            document.querySelector('#' + key + ' button');\n",
              "          quickchartButtonEl.disabled = true;  // To prevent multiple clicks.\n",
              "          quickchartButtonEl.classList.add('colab-df-spinner');\n",
              "          try {\n",
              "            const charts = await google.colab.kernel.invokeFunction(\n",
              "                'suggestCharts', [key], {});\n",
              "          } catch (error) {\n",
              "            console.error('Error during call to suggestCharts:', error);\n",
              "          }\n",
              "          quickchartButtonEl.classList.remove('colab-df-spinner');\n",
              "          quickchartButtonEl.classList.add('colab-df-quickchart-complete');\n",
              "        }\n",
              "        (() => {\n",
              "          let quickchartButtonEl =\n",
              "            document.querySelector('#df-fb559c43-3524-4e88-84ea-bc86aba451da button');\n",
              "          quickchartButtonEl.style.display =\n",
              "            google.colab.kernel.accessAllowed ? 'block' : 'none';\n",
              "        })();\n",
              "      </script>\n",
              "    </div>\n",
              "\n",
              "    </div>\n",
              "  </div>\n"
            ],
            "application/vnd.google.colaboratory.intrinsic+json": {
              "type": "dataframe",
              "summary": "{\n  \"name\": \"df[['ID', 'Dt_Customer', 'Customer_Days']]\",\n  \"rows\": 5,\n  \"fields\": [\n    {\n      \"column\": \"ID\",\n      \"properties\": {\n        \"dtype\": \"number\",\n        \"std\": 1577,\n        \"min\": 2174,\n        \"max\": 6182,\n        \"num_unique_values\": 5,\n        \"samples\": [\n          2174,\n          5324,\n          4141\n        ],\n        \"semantic_type\": \"\",\n        \"description\": \"\"\n      }\n    },\n    {\n      \"column\": \"Dt_Customer\",\n      \"properties\": {\n        \"dtype\": \"date\",\n        \"min\": \"2012-04-09 00:00:00\",\n        \"max\": \"2014-10-02 00:00:00\",\n        \"num_unique_values\": 3,\n        \"samples\": [\n          \"2012-04-09 00:00:00\",\n          \"2014-08-03 00:00:00\",\n          \"2014-10-02 00:00:00\"\n        ],\n        \"semantic_type\": \"\",\n        \"description\": \"\"\n      }\n    },\n    {\n      \"column\": \"Customer_Days\",\n      \"properties\": {\n        \"dtype\": \"number\",\n        \"std\": 2413,\n        \"min\": 0,\n        \"max\": 4942,\n        \"num_unique_values\": 4,\n        \"samples\": [\n          4096,\n          4036,\n          4942\n        ],\n        \"semantic_type\": \"\",\n        \"description\": \"\"\n      }\n    }\n  ]\n}"
            }
          },
          "metadata": {},
          "execution_count": 64
        }
      ]
    },
    {
      "cell_type": "markdown",
      "source": [
        "I converted the Dt_Customer column into a datetime format using pd.to_datetime() and retrieved today’s date using datetime.today().\n",
        "I then calculated a new variable, Customer_Days, as the difference between today’s date and each customer’s enrollment date using (today - df['Dt_Customer']).dt.days.\n",
        "Any missing or invalid dates were filled with 0 to ensure consistency.\n",
        "The new column correctly shows how many days each customer has been with Nata Supermarkets."
      ],
      "metadata": {
        "id": "-pH5MFlgN4Zl"
      }
    },
    {
      "cell_type": "markdown",
      "source": [
        "## 5. Categorical Features (15 pts)\n",
        "\n",
        "* For `Education` and `Marital_Status`,\n",
        "\n",
        "  * find how many customers fall into each category\n",
        "  * create pie charts to show the percentage of each category; make sure to show the percentage numbers on the chart with 2 decimal places\n",
        "\n",
        "* What do you findings suggest about the company's target demographic?"
      ],
      "metadata": {
        "id": "npCTWRGiPeaT"
      }
    },
    {
      "cell_type": "code",
      "source": [
        "#Step 1: Count how many customers fall into each category\n",
        "edu_counts = df['Education'].value_counts()\n",
        "mar_counts = df['Marital_Status'].value_counts()\n",
        "\n",
        "print(\"Education counts:\\n\", edu_counts, \"\\n\")\n",
        "print(\"Marital Status counts:\\n\", mar_counts)\n"
      ],
      "metadata": {
        "id": "GQKgCTOSRQX5",
        "colab": {
          "base_uri": "https://localhost:8080/"
        },
        "outputId": "670adefa-6094-445f-e910-1ed2f495278d"
      },
      "execution_count": null,
      "outputs": [
        {
          "output_type": "stream",
          "name": "stdout",
          "text": [
            "Education counts:\n",
            " Education\n",
            "Graduation    1127\n",
            "PhD            486\n",
            "Master         370\n",
            "2n Cycle       203\n",
            "Basic           54\n",
            "Name: count, dtype: int64 \n",
            "\n",
            "Marital Status counts:\n",
            " Marital_Status\n",
            "Married     864\n",
            "Together    580\n",
            "Single      480\n",
            "Divorced    232\n",
            "Widow        77\n",
            "Alone         3\n",
            "Absurd        2\n",
            "YOLO          2\n",
            "Name: count, dtype: int64\n"
          ]
        }
      ]
    },
    {
      "cell_type": "code",
      "source": [
        "import matplotlib.pyplot as plt\n",
        "\n",
        "#Pie chart for Education\n",
        "plt.figure(figsize=(5,5))\n",
        "df['Education'].value_counts().plot.pie(\n",
        "    autopct=lambda p: f'{p:.2f}%',  #2 decimal places\n",
        "    startangle=90,\n",
        "    ylabel=''                        #remove default y-label\n",
        ")\n",
        "plt.title('Distribution of Education Levels')\n",
        "plt.show()\n",
        "\n",
        "#Pie chart for Marital Status\n",
        "plt.figure(figsize=(5,5))\n",
        "df['Marital_Status'].value_counts().plot.pie(\n",
        "    autopct=lambda p: f'{p:.2f}%',\n",
        "    startangle=90,\n",
        "    ylabel=''\n",
        ")\n",
        "plt.title('Distribution of Marital Status')\n",
        "plt.show()\n"
      ],
      "metadata": {
        "colab": {
          "base_uri": "https://localhost:8080/",
          "height": 871
        },
        "id": "koak6Nd2PZ7B",
        "outputId": "084a7445-b942-4085-8eb3-910848872dce"
      },
      "execution_count": null,
      "outputs": [
        {
          "output_type": "display_data",
          "data": {
            "text/plain": [
              "<Figure size 500x500 with 1 Axes>"
            ],
            "image/png": "[encoded data removed]"
          },
          "metadata": {}
        },
        {
          "output_type": "display_data",
          "data": {
            "text/plain": [
              "<Figure size 500x500 with 1 Axes>"
            ],
            "image/png": "[encoded data removed]"
          },
          "metadata": {}
        }
      ]
    },
    {
      "cell_type": "markdown",
      "source": [
        "The pie charts show that roughly half of Nata’s customers (≈ 50%) have a Graduation-level education, and another 40% hold advanced degrees (Master’s or PhD), indicating a highly educated customer base.\n",
        "Most customers are either Married (≈ 39%) or Together (≈ 26%), showing that families and couples make up the core demographic.\n",
        "\n",
        "These findings suggest that Nata’s target market consists primarily of well-educated, middle-income households, making it ideal for family-oriented marketing campaigns and premium product promotions."
      ],
      "metadata": {
        "id": "9ja4eY7KQ_00"
      }
    },
    {
      "cell_type": "markdown",
      "source": [
        "## 6. Numeric Variables (15pts)\n",
        "\n",
        "* For `Income`, `Kidhome`, and `Teenhome`,\n",
        "  * use boxplots to visualize their distributions.\n",
        "\n",
        "* Based on these distributions, what can you say about the typical household profile of Nata's customers?"
      ],
      "metadata": {
        "id": "-PttlypqR-FN"
      }
    },
    {
      "cell_type": "code",
      "source": [
        "#Numeric Variables\n",
        "import matplotlib.pyplot as plt\n",
        "\n",
        "#Step 1: Create boxplots for Income, Kidhome, and Teenhome\n",
        "plt.figure(figsize=(8,5))\n",
        "df[['Income', 'Kidhome', 'Teenhome']].boxplot()\n",
        "plt.title('Distribution of Income, Kidhome, and Teenhome')\n",
        "plt.ylabel('Values')\n",
        "plt.show()\n"
      ],
      "metadata": {
        "id": "ONVn3fP_SfGa",
        "colab": {
          "base_uri": "https://localhost:8080/",
          "height": 468
        },
        "outputId": "aa4572af-d1fe-4902-a36f-6f8d346ce0cf"
      },
      "execution_count": null,
      "outputs": [
        {
          "output_type": "display_data",
          "data": {
            "text/plain": [
              "<Figure size 800x500 with 1 Axes>"
            ],
            "image/png": "[encoded data removed]"
          },
          "metadata": {}
        }
      ]
    },
    {
      "cell_type": "markdown",
      "source": [
        "The boxplots show that customer incomes vary widely, with a median around $50,000 to $60,000, and a few high-income outliers above $150,000. This suggests that Nata Supermarkets serves a middle- to upper-income customer segment.\n",
        "\n",
        "The Kidhome and Teenhome variables show that most households have 0–1 child or teenager, indicating small family sizes.\n",
        "\n",
        "Overall, the typical Nata customer household appears to be financially stable, small-sized, and family-oriented, consistent with earlier findings from the education and marital status analysis."
      ],
      "metadata": {
        "id": "FXG0L4K-VCTH"
      }
    },
    {
      "cell_type": "markdown",
      "source": [
        "## 7. Spending by Products (15pts)\n",
        "\n",
        "* Examine the spending amount columns `MntWines`,\t`MntFruits`,\t`MntMeatProducts`,\t`MntFishProducts`,\t`MntSweetProducts`,\t`MntGoldProds`, and find the product with the highest total spending amount by all customers.\n",
        "\n"
      ],
      "metadata": {
        "id": "ilLuuetiTFua"
      }
    },
    {
      "cell_type": "code",
      "source": [
        "#Step 1: Define product spending columns\n",
        "spend_cols = [\n",
        "    'MntWines',\n",
        "    'MntFruits',\n",
        "    'MntMeatProducts',\n",
        "    'MntFishProducts',\n",
        "    'MntSweetProducts',\n",
        "    'MntGoldProds'\n",
        "]\n",
        "\n",
        "#Step 2: Calculate total spending for each product category\n",
        "total_spend = df[spend_cols].sum().sort_values(ascending=False)\n",
        "print(\"Total spending by category:\\n\", total_spend)\n",
        "\n",
        "#Step 3: Identify top product\n",
        "top_product = total_spend.idxmax()\n",
        "top_value = total_spend.max()\n",
        "print(f\"\\nTop product category: {top_product} (${top_value:,.0f})\")\n"
      ],
      "metadata": {
        "id": "Sjo1pvxUWVqh",
        "colab": {
          "base_uri": "https://localhost:8080/"
        },
        "outputId": "fbe3dd0d-b106-4560-d353-45ec5982be16"
      },
      "execution_count": null,
      "outputs": [
        {
          "output_type": "stream",
          "name": "stdout",
          "text": [
            "Total spending by category:\n",
            " MntWines            680816\n",
            "MntMeatProducts     373968\n",
            "MntGoldProds         98609\n",
            "MntFishProducts      84057\n",
            "MntSweetProducts     60621\n",
            "MntFruits            58917\n",
            "dtype: int64\n",
            "\n",
            "Top product category: MntWines ($680,816)\n"
          ]
        }
      ]
    },
    {
      "cell_type": "markdown",
      "source": [
        "I summed the total spending for each product category and found that Wine (MntWines) has the highest total spending among all customers, followed by Meat Products and Gold Products.\n",
        "\n",
        "This indicates that Nata’s customers spend the most on premium or luxury categories, particularly wine and meat, which are likely higher-margin products.\n",
        "\n",
        "These findings suggest that Nata’s target customers are willing to spend more on quality and indulgence items, consistent with earlier insights showing they are educated, higher-income households."
      ],
      "metadata": {
        "id": "Zd9UI0TJZF1Q"
      }
    },
    {
      "cell_type": "markdown",
      "source": [
        "## 8. Use of Gen. AI (2pts)\n",
        "\n",
        "Use of Generative AI is allowed. Briefly describe if and how you have used Gen. AI tools in this assignment."
      ],
      "metadata": {
        "id": "aMAKfon36poQ"
      }
    },
    {
      "cell_type": "markdown",
      "source": [
        "I used Google Colab’s “Generate AI Code” feature and ChatGPT occasionally throughout this assignment to clarify syntax, verify logic, and better understand certain steps.\n",
        "\n",
        "The AI tools were mainly used to:\n",
        "\n",
        "Confirm that my code structure (e.g., date conversion, and visualizations) followed the right logic.\n",
        "\n",
        "Help me recheck or debug small errors, such as incorrect parsing of Dt_Customer.\n",
        "\n",
        "Review my reasoning and ensure that my interpretations aligned with the data shown in the charts and tables.\n",
        "\n",
        "The AI support was used only to verify and refine my approach. This allowed me to understand each step better and maintain full ownership of the final work submitted."
      ],
      "metadata": {
        "id": "wlgovwZ668r-"
      }
    }
  ]
}